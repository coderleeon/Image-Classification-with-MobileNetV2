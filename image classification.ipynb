{
 "cells": [
  {
   "cell_type": "code",
   "execution_count": 33,
   "id": "0b09dea9",
   "metadata": {},
   "outputs": [],
   "source": [
    "import tensorflow.keras as keras\n",
    "import numpy as np\n",
    "from PIL import Image"
   ]
  },
  {
   "cell_type": "code",
   "execution_count": 34,
   "id": "3bc5b2b5",
   "metadata": {},
   "outputs": [],
   "source": [
    "# Load the pre-trained model (here we're using the MobileNetV2 model)\n",
    "model = keras.applications.MobileNetV2()"
   ]
  },
  {
   "cell_type": "code",
   "execution_count": 35,
   "id": "ade071fc",
   "metadata": {},
   "outputs": [],
   "source": [
    "# Load and preprocess the image\n",
    "img = Image.open(\"C:/Users/leeon/Downloads/supra.jpeg\")\n",
    "img = img.resize((224, 224))\n",
    "x = keras.preprocessing.image.img_to_array(img)\n",
    "x = np.expand_dims(x, axis=0)\n",
    "x = keras.applications.mobilenet_v2.preprocess_input(x)"
   ]
  },
  {
   "cell_type": "code",
   "execution_count": 36,
   "id": "8459aab4",
   "metadata": {},
   "outputs": [
    {
     "name": "stdout",
     "output_type": "stream",
     "text": [
      "1/1 [==============================] - 1s 578ms/step\n"
     ]
    }
   ],
   "source": [
    "# Make a prediction\n",
    "preds = model.predict(x)"
   ]
  },
  {
   "cell_type": "code",
   "execution_count": 37,
   "id": "e95b9562",
   "metadata": {},
   "outputs": [
    {
     "name": "stdout",
     "output_type": "stream",
     "text": [
      "1. sports_car: 82.67%\n",
      "2. racer: 7.55%\n",
      "3. car_wheel: 5.29%\n"
     ]
    }
   ],
   "source": [
    "# Decode the predictions (map them back to class labels)\n",
    "decode_preds = keras.applications.mobilenet_v2.decode_predictions(preds, top=3)[0]\n",
    "for i, (class_id, class_name, pred) in enumerate(decode_preds):\n",
    "    print(\"{}. {}: {:.2f}%\".format(i+1, class_name, pred*100))"
   ]
  },
  {
   "cell_type": "code",
   "execution_count": null,
   "id": "1ea4be71",
   "metadata": {},
   "outputs": [],
   "source": []
  }
 ],
 "metadata": {
  "kernelspec": {
   "display_name": "Python 3",
   "language": "python",
   "name": "python3"
  },
  "language_info": {
   "codemirror_mode": {
    "name": "ipython",
    "version": 3
   },
   "file_extension": ".py",
   "mimetype": "text/x-python",
   "name": "python",
   "nbconvert_exporter": "python",
   "pygments_lexer": "ipython3",
   "version": "3.8.8"
  }
 },
 "nbformat": 4,
 "nbformat_minor": 5
}
